{
 "cells": [
  {
   "cell_type": "markdown",
   "metadata": {},
   "source": [
    "$$\n",
    "\\mathrm{MAE}=\\dfrac{1}{n}\\displaystyle\\sum_{k=1}^n|f_i-y_i|\n",
    "$$"
   ]
  },
  {
   "cell_type": "code",
   "execution_count": 8,
   "metadata": {},
   "outputs": [
    {
     "data": {
      "text/plain": [
       "5.5"
      ]
     },
     "execution_count": 8,
     "metadata": {},
     "output_type": "execute_result"
    }
   ],
   "source": [
    "#\\mathrm{MAE}=\\dfrac{1}{n}\\displaystyle\\sum_{k=1}^n|f_i-y_i|\n",
    "\n",
    "import math\n",
    "\n",
    "n = 10\n",
    "#k = 1\n",
    "f = []\n",
    "for i in range(1, 11):\n",
    "    f.append(i * 100)\n",
    "y = []\n",
    "for i in range(1, 11):\n",
    "    y.append(i * 100 + i)\n",
    "\n",
    "sum_ = 0\n",
    "for k in range(n):\n",
    "    sum_ += (abs(f[k] - y[k]))\n",
    "mae_score = sum_ / n\n",
    "mae_score"
   ]
  }
 ],
 "metadata": {
  "kernelspec": {
   "display_name": "Python 3",
   "language": "python",
   "name": "python3"
  },
  "language_info": {
   "codemirror_mode": {
    "name": "ipython",
    "version": 3
   },
   "file_extension": ".py",
   "mimetype": "text/x-python",
   "name": "python",
   "nbconvert_exporter": "python",
   "pygments_lexer": "ipython3",
   "version": "3.7.1"
  }
 },
 "nbformat": 4,
 "nbformat_minor": 2
}
